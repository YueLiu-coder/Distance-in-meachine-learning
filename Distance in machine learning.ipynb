{
 "cells": [
  {
   "cell_type": "markdown",
   "metadata": {},
   "source": [
    "# 导入所需要的包"
   ]
  },
  {
   "cell_type": "code",
   "execution_count": 11,
   "metadata": {
    "collapsed": true
   },
   "outputs": [],
   "source": [
    "import numpy as np\n",
    "import math"
   ]
  },
  {
   "cell_type": "markdown",
   "metadata": {},
   "source": [
    "1.欧氏距离(Euclidean Distance)"
   ]
  },
  {
   "cell_type": "code",
   "execution_count": 12,
   "metadata": {
    "collapsed": true
   },
   "outputs": [],
   "source": [
    "point1 = [1,2,3]\n",
    "point2 = [4,5,6]"
   ]
  },
  {
   "cell_type": "code",
   "execution_count": 13,
   "metadata": {},
   "outputs": [
    {
     "data": {
      "text/plain": [
       "5.196152422706632"
      ]
     },
     "execution_count": 13,
     "metadata": {},
     "output_type": "execute_result"
    }
   ],
   "source": [
    "euclidean_distance = 0\n",
    "for i in range(len(point1)):\n",
    "    euclidean_distance += (point1[i]-point2[i])**2\n",
    "euclidean_distance = math.sqrt(euclidean_distance)\n",
    "euclidean_distance"
   ]
  },
  {
   "cell_type": "markdown",
   "metadata": {},
   "source": [
    "2.曼哈顿距离(Manhattan Distance)"
   ]
  },
  {
   "cell_type": "code",
   "execution_count": 17,
   "metadata": {
    "collapsed": true
   },
   "outputs": [],
   "source": [
    "point1 = [1,2,3]\n",
    "point2 = [4,5,6]"
   ]
  },
  {
   "cell_type": "code",
   "execution_count": 18,
   "metadata": {},
   "outputs": [
    {
     "data": {
      "text/plain": [
       "9.0"
      ]
     },
     "execution_count": 18,
     "metadata": {},
     "output_type": "execute_result"
    }
   ],
   "source": [
    "manhattan_distance = 0\n",
    "for i in range(len(point1)):\n",
    "    manhattan_distance += math.fabs(point1[i]-point2[i])\n",
    "manhattan_distance"
   ]
  },
  {
   "cell_type": "markdown",
   "metadata": {},
   "source": [
    "3.切比雪夫距离 (Chebyshev Distance)"
   ]
  },
  {
   "cell_type": "code",
   "execution_count": 26,
   "metadata": {
    "collapsed": true
   },
   "outputs": [],
   "source": [
    "point1 = [1,2,1]\n",
    "point2 = [4,5,6]"
   ]
  },
  {
   "cell_type": "code",
   "execution_count": 27,
   "metadata": {},
   "outputs": [
    {
     "data": {
      "text/plain": [
       "5.0"
      ]
     },
     "execution_count": 27,
     "metadata": {},
     "output_type": "execute_result"
    }
   ],
   "source": [
    "chebyshev_distance = point1[0]-point2[0]\n",
    "for i in range(len(point1)):\n",
    "    if chebyshev_distance < math.fabs(point1[i]-point2[i]):\n",
    "        chebyshev_distance = math.fabs(point1[i]-point2[i])    \n",
    "chebyshev_distance"
   ]
  },
  {
   "cell_type": "markdown",
   "metadata": {},
   "source": [
    "4.闵可夫斯基距离(Minkowski Distance)"
   ]
  },
  {
   "cell_type": "code",
   "execution_count": 28,
   "metadata": {
    "collapsed": true
   },
   "outputs": [],
   "source": [
    "point1 = [1,2,1]\n",
    "point2 = [4,5,6]"
   ]
  },
  {
   "cell_type": "code",
   "execution_count": 35,
   "metadata": {},
   "outputs": [
    {
     "data": {
      "text/plain": [
       "5.635740794544236"
      ]
     },
     "execution_count": 35,
     "metadata": {},
     "output_type": "execute_result"
    }
   ],
   "source": [
    "minkowski_distance = 0\n",
    "for i in range(len(point1)):\n",
    "    minkowski_distance += math.fabs(point1[i]-point2[i])**3\n",
    "minkowski_distance = minkowski_distance**(1.0/3)\n",
    "minkowski_distance"
   ]
  },
  {
   "cell_type": "markdown",
   "metadata": {},
   "source": [
    "5.标准化欧氏距离 (Standardized Euclidean Distance)  \n",
    "  加权欧氏距离(Weighted Euclidean distance)"
   ]
  },
  {
   "cell_type": "code",
   "execution_count": 39,
   "metadata": {
    "collapsed": true
   },
   "outputs": [],
   "source": [
    "point1 = [1,2,1]\n",
    "point2 = [4,5,6]\n",
    "s = [0.5,0.2,0.4]"
   ]
  },
  {
   "cell_type": "code",
   "execution_count": 40,
   "metadata": {},
   "outputs": [
    {
     "data": {
      "text/plain": [
       "20.426698215815495"
      ]
     },
     "execution_count": 40,
     "metadata": {},
     "output_type": "execute_result"
    }
   ],
   "source": [
    "euclidean_distance = 0\n",
    "for i in range(len(point1)):\n",
    "    euclidean_distance += ((point1[i]-point2[i])/s[i])**2\n",
    "euclidean_distance = math.sqrt(euclidean_distance)\n",
    "euclidean_distance"
   ]
  },
  {
   "cell_type": "markdown",
   "metadata": {},
   "source": [
    "6.马氏距离(Mahalanobis Distance)"
   ]
  },
  {
   "cell_type": "code",
   "execution_count": 66,
   "metadata": {
    "collapsed": true
   },
   "outputs": [],
   "source": [
    "point1 = [3, 4]\n",
    "point2 = [5, 6]\n",
    "point3 = [2, 2]\n",
    "point4 = [8, 4]"
   ]
  },
  {
   "cell_type": "code",
   "execution_count": 87,
   "metadata": {},
   "outputs": [
    {
     "name": "stdout",
     "output_type": "stream",
     "text": [
      "样本数： 4\n",
      "Distance_0to1 1.243163121016122\n",
      "Distance_0to2 1.2431631210161223\n",
      "Distance_0to3 2.1320071635561044\n",
      "Distance_1to2 2.4494897427831783\n",
      "Distance_1to3 2.2763607319179844\n",
      "Distance_2to3 2.2763607319179844\n"
     ]
    }
   ],
   "source": [
    "# 堆叠样本\n",
    "X = []\n",
    "for i in range(len(point1)):\n",
    "    temp = []\n",
    "    temp = [point1[i],point2[i],point3[i],point4[i]]\n",
    "    X.append(temp)\n",
    "X = np.array(X)\n",
    "# 计算转置\n",
    "XT = X.T\n",
    "# 计算协方差\n",
    "S = np.cov(X)\n",
    "# 计算协方差的逆\n",
    "SI = np.linalg.inv(S)\n",
    "n = XT.shape[0]\n",
    "print(\"样本数：\",n)\n",
    "for i in range(n):\n",
    "    for j in range(i+1,n):\n",
    "        delta = XT[i]-XT[j]\n",
    "        d = math.sqrt(np.dot(np.dot(delta,SI),delta.T))\n",
    "        print(\"Distance_{}to{}\".format(i,j),d)"
   ]
  },
  {
   "cell_type": "markdown",
   "metadata": {},
   "source": [
    "7.余弦距离(Cosine Distance)"
   ]
  },
  {
   "cell_type": "code",
   "execution_count": 93,
   "metadata": {
    "collapsed": true
   },
   "outputs": [],
   "source": [
    "point1 = np.array([1,2])\n",
    "point2 = np.array([3,4])"
   ]
  },
  {
   "cell_type": "code",
   "execution_count": 100,
   "metadata": {},
   "outputs": [
    {
     "data": {
      "text/plain": [
       "0.9838699100999074"
      ]
     },
     "execution_count": 100,
     "metadata": {},
     "output_type": "execute_result"
    }
   ],
   "source": [
    "scale1 = np.sqrt(point1.dot(point1.T))\n",
    "scale2 = np.sqrt(point2.dot(point2.T))\n",
    "cosine_distance = 0\n",
    "for i in range(len(point1)):\n",
    "    cosine_distance += point1[i]*point2[i]\n",
    "cosine_distance = cosine_distance/(scale1*scale2)\n",
    "cosine_distance"
   ]
  },
  {
   "cell_type": "markdown",
   "metadata": {},
   "source": [
    "8.汉明距离(Hamming Distance)"
   ]
  },
  {
   "cell_type": "code",
   "execution_count": 101,
   "metadata": {
    "collapsed": true
   },
   "outputs": [],
   "source": [
    "s1 = \"000111\"\n",
    "s2 = \"101010\""
   ]
  },
  {
   "cell_type": "code",
   "execution_count": 103,
   "metadata": {},
   "outputs": [
    {
     "data": {
      "text/plain": [
       "4"
      ]
     },
     "execution_count": 103,
     "metadata": {},
     "output_type": "execute_result"
    }
   ],
   "source": [
    "hamming_distance = 0\n",
    "for i in range(len(s1)):\n",
    "    if s1[i]!=s2[i]:\n",
    "        hamming_distance += 1\n",
    "hamming_distance"
   ]
  },
  {
   "cell_type": "markdown",
   "metadata": {},
   "source": [
    "9.杰卡德距离(Jaccard Distance)    \n",
    "杰卡德相似度 = IoU in OD"
   ]
  },
  {
   "cell_type": "code",
   "execution_count": 119,
   "metadata": {},
   "outputs": [],
   "source": [
    "set1 = {1,2,3,4}\n",
    "set2 = {1,8,6,4}"
   ]
  },
  {
   "cell_type": "code",
   "execution_count": 120,
   "metadata": {},
   "outputs": [
    {
     "data": {
      "text/plain": [
       "0.6666666666666667"
      ]
     },
     "execution_count": 120,
     "metadata": {},
     "output_type": "execute_result"
    }
   ],
   "source": [
    "I = set1.intersection(set2)\n",
    "U = set1.union(set2)\n",
    "jaccard_similarity_coefficient = len(I)/len(U)\n",
    "jaccard_distance = 1 - jaccard_similarity_coefficient\n",
    "jaccard_distance"
   ]
  },
  {
   "cell_type": "markdown",
   "metadata": {},
   "source": [
    "10.相关距离(Correlation distance)"
   ]
  },
  {
   "cell_type": "markdown",
   "metadata": {},
   "source": [
    "11.信息熵(Information Entropy)"
   ]
  },
  {
   "cell_type": "code",
   "execution_count": null,
   "metadata": {},
   "outputs": [],
   "source": []
  },
  {
   "cell_type": "code",
   "execution_count": null,
   "metadata": {
    "collapsed": true
   },
   "outputs": [],
   "source": []
  }
 ],
 "metadata": {
  "kernelspec": {
   "display_name": "Python 3",
   "language": "python",
   "name": "python3"
  },
  "language_info": {
   "codemirror_mode": {
    "name": "ipython",
    "version": 3
   },
   "file_extension": ".py",
   "mimetype": "text/x-python",
   "name": "python",
   "nbconvert_exporter": "python",
   "pygments_lexer": "ipython3",
   "version": "3.5.6"
  }
 },
 "nbformat": 4,
 "nbformat_minor": 2
}
